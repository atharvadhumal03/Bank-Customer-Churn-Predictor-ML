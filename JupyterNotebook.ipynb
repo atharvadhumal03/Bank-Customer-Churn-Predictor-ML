{
 "cells": [
  {
   "cell_type": "markdown",
   "id": "33185ff2",
   "metadata": {},
   "source": [
    "## Bank Customer Churn Prediction"
   ]
  },
  {
   "cell_type": "markdown",
   "id": "21e08a7d",
   "metadata": {},
   "source": []
  }
 ],
 "metadata": {
  "language_info": {
   "name": "python"
  }
 },
 "nbformat": 4,
 "nbformat_minor": 5
}
